{
 "cells": [
  {
   "cell_type": "markdown",
   "metadata": {},
   "source": [
    "# Numpy Fundamentals"
   ]
  },
  {
   "cell_type": "markdown",
   "metadata": {},
   "source": [
    "Numpy (short for Numerical Python) is an open source python library for scientific computing.\n",
    "The library contains a long list of useful mathematical functions\n",
    " - Linear algebra\n",
    " - Fourier transformation\n",
    " - Random Number generation, etc\n",
    "\n",
    "Numpy's arrays are stored more efficiently than an equivalent data structure in base Python, the improvement in performance scales with the number of elements in the array.\n",
    "The drawback of NumPy arrays is that they are more specialized than plain lists, hence outside of numerical computing, they are less useful."
   ]
  },
  {
   "cell_type": "code",
   "execution_count": 2,
   "metadata": {},
   "outputs": [
    {
     "name": "stdout",
     "output_type": "stream",
     "text": [
      "The numpy version is :: 1.19.4\n"
     ]
    }
   ],
   "source": [
    "import numpy as np\n",
    "print(\"The numpy version is :: {}\".format(np.__version__))"
   ]
  },
  {
   "cell_type": "code",
   "execution_count": 3,
   "metadata": {},
   "outputs": [
    {
     "name": "stdout",
     "output_type": "stream",
     "text": [
      "[1, 4, 9, 16, 25, 36, 49, 64, 81, 100]\n"
     ]
    }
   ],
   "source": [
    "# A Vector in the mathematical sense, a one dimensional array\n",
    "# squares = [] that contains the squares of numbers 1 to n, including n\n",
    "# pyhtonic\n",
    "n = 10\n",
    "squares = [i*i for i in range(1, n+1)]\n",
    "print(squares)"
   ]
  },
  {
   "cell_type": "code",
   "execution_count": 4,
   "metadata": {},
   "outputs": [
    {
     "name": "stdout",
     "output_type": "stream",
     "text": [
      "[  1   4   9  16  25  36  49  64  81 100]\n"
     ]
    }
   ],
   "source": [
    "# numpy way\n",
    "nsquares = np.arange(1, n+1) ** 2\n",
    "print(nsquares)"
   ]
  },
  {
   "cell_type": "markdown",
   "metadata": {},
   "source": [
    "Numpy code requires less explicit loops than the equivalent Python Code"
   ]
  },
  {
   "cell_type": "code",
   "execution_count": 5,
   "metadata": {},
   "outputs": [
    {
     "name": "stdout",
     "output_type": "stream",
     "text": [
      "[1 3 5 7 9]\n",
      "[ 2  4  6  8 10]\n",
      "[ 3  7 11 15 19]\n"
     ]
    }
   ],
   "source": [
    "# Numpy arrays can be added directly without a for loop\n",
    "odds = np.arange(1, n+1, 2)\n",
    "print(odds)\n",
    "evens = np.arange(2, n+1, 2)\n",
    "print(evens)\n",
    "\n",
    "elem_sum = odds + evens\n",
    "print(elem_sum)\n",
    "# Notice that numpy arrays are not comma seperated like list elements while printing them."
   ]
  },
  {
   "cell_type": "markdown",
   "metadata": {},
   "source": [
    "Concepts to get started with numpy\n",
    " - Data Types\n",
    " - Array Types\n",
    " - Type Conversions\n",
    " - Array Creation\n",
    " - Indexing\n",
    " - Slicing\n",
    " - Shape Manipulation"
   ]
  },
  {
   "cell_type": "code",
   "execution_count": 6,
   "metadata": {},
   "outputs": [
    {
     "name": "stdout",
     "output_type": "stream",
     "text": [
      "Array :  [ 1  2  3  4  5  6  7  8  9 10]\n",
      "Type is :  <class 'numpy.ndarray'>\n",
      "Data Type is ::  int64\n",
      "The shape of the array is :  (10,)\n",
      "A MultiDimensional Array ::: \n",
      " [[ 1  3  5  7  9]\n",
      " [ 2  4  6  8 10]]\n",
      "The data type of the multi dimensional array is ::  int64\n",
      "The shape of the mullti dimensional array is ::  (2, 5)\n"
     ]
    }
   ],
   "source": [
    "# DATA TYPES\n",
    "n = 10\n",
    "ex = np.arange(1, n+1)\n",
    "print(\"Array : \", ex)\n",
    "print(\"Type is : \" , type(ex))\n",
    "# Numpy has a multidimensional array object called the ndarray. It consists of two parts\n",
    "# 1. The actual data.\n",
    "# 2. Metadata regarding the data.\n",
    "# The numpy array is homogeneous in general i.e. all the items in the array are of the same type.\n",
    "# The advantage of this property is that its easy to determine the size required of the array.\n",
    "print(\"Data Type is :: \", ex.dtype)\n",
    "# We have created a vector, a single dimension array consisting of int64 items.\n",
    "# To know the dimensions/shape of a numpy array we can call the shape attribute\n",
    "print(\"The shape of the array is : \", ex.shape)\n",
    "# this returns us an tuple, which indicates the number of items or length in each dimension of the array.!!\n",
    "multi_ex = np.array([np.arange(1, n+1, 2), np.arange(2, n+1, 2)])\n",
    "print(\"A MultiDimensional Array ::: \\n\", multi_ex)\n",
    "print(\"The data type of the multi dimensional array is :: \", multi_ex.dtype)\n",
    "print(\"The shape of the mullti dimensional array is :: \", multi_ex.shape)"
   ]
  },
  {
   "cell_type": "markdown",
   "metadata": {},
   "source": [
    "### Some Common numpy datatypes with varying precision\n",
    "| DataType      | Description |\n",
    "| :---------- | ----------- |\n",
    "| bool      | True/False stored as a bit       |\n",
    "| int   | int32 or int64        |\n",
    "| int8   | integer ( -2 ** 8 to 2 ** 8 -1)     |\n",
    "| int16   | integer ( -2 ** 15 to 2 ** 15 -1)  |\n",
    "| int32   | integer ( -2 ** 31 to 2 ** 31 -1)  |\n",
    "| int64   | integer ( -2 ** 63 to 2 ** 63 -1)  |\n",
    "| uint8   | unsigned integer 0-2**(8) -1       |\n",
    "| uint16   | unsigned integer 0-2**(16)-1      |\n",
    "| uint32   | unsigned integer 0-2**(32)-1      |\n",
    "| uint64   | unsigned integer 0-2**(64)-1      |\n",
    "| float16   | half precision float             |\n",
    "| float32   | single precision float           |\n",
    "| float64   | double precision float           |\n",
    "| complex64   | complex number represented by two 32 bit floats        |\n",
    "|----------- | ----------- |\n",
    "\n",
    "The data type objects are instances of the numpy.dtype class. Arrays have a data type, the data type can tell the size of the data in bytesm using the itemsize attribute"
   ]
  },
  {
   "cell_type": "code",
   "execution_count": 7,
   "metadata": {},
   "outputs": [
    {
     "name": "stdout",
     "output_type": "stream",
     "text": [
      "int64\n",
      "Size of item in bytes 8\n"
     ]
    }
   ],
   "source": [
    "print(multi_ex.dtype)\n",
    "print(\"Size of item in bytes\", multi_ex.dtype.itemsize)"
   ]
  },
  {
   "cell_type": "code",
   "execution_count": 8,
   "metadata": {},
   "outputs": [
    {
     "name": "stdout",
     "output_type": "stream",
     "text": [
      "Custom Item DataType:::  [('name', '<U30'), ('quantity', '<i4'), ('cost', '<f4')]\n",
      "[('Pen',  20, 12.33   ) ('Blank Book', 100,  4.5    )\n",
      " ('Pencil', 200,  1.56334)]\n",
      "(3,)\n",
      "('Pen', 20, 12.33)\n"
     ]
    }
   ],
   "source": [
    "# Creating the heterogeneous datatype\n",
    "item_datatype = np.dtype([('name', str, 30), (\"quantity\", \"int32\"), (\"cost\", \"float32\")])\n",
    "print(\"Custom Item DataType::: \", item_datatype)\n",
    "items = np.array([(\"Pen\", 20, 12.33), (\"Blank Book\", 100, 4.5), (\"Pencil\", 200, 1.56334)], dtype=item_datatype)\n",
    "print(items)\n",
    "print(items.shape)\n",
    "print(items[0])"
   ]
  },
  {
   "cell_type": "code",
   "execution_count": 9,
   "metadata": {},
   "outputs": [
    {
     "name": "stdout",
     "output_type": "stream",
     "text": [
      "[[ 1  3  5  7  9 11 13 15 17 19]\n",
      " [ 2  4  6  8 10 12 14 16 18 20]]\n",
      "(2, 10)\n"
     ]
    }
   ],
   "source": [
    "# Accessing the elements of the array\n",
    "n = 20\n",
    "ex = np.array([np.arange(1, n+1, 2), np.arange(2, n+1, 2)])\n",
    "print(ex)\n",
    "print(ex.shape)"
   ]
  },
  {
   "cell_type": "code",
   "execution_count": 10,
   "metadata": {},
   "outputs": [
    {
     "data": {
      "text/plain": [
       "19"
      ]
     },
     "execution_count": 10,
     "metadata": {},
     "output_type": "execute_result"
    }
   ],
   "source": [
    "ex[0, 9] # ex[0, -1]"
   ]
  },
  {
   "cell_type": "code",
   "execution_count": 15,
   "metadata": {},
   "outputs": [
    {
     "data": {
      "text/plain": [
       "5"
      ]
     },
     "execution_count": 15,
     "metadata": {},
     "output_type": "execute_result"
    }
   ],
   "source": [
    "ex[0,2]"
   ]
  },
  {
   "cell_type": "code",
   "execution_count": 22,
   "metadata": {},
   "outputs": [
    {
     "data": {
      "text/plain": [
       "array([[5, 7],\n",
       "       [6, 8]])"
      ]
     },
     "execution_count": 22,
     "metadata": {},
     "output_type": "execute_result"
    }
   ],
   "source": [
    "ex[:, 2:4]"
   ]
  },
  {
   "cell_type": "code",
   "execution_count": 25,
   "metadata": {},
   "outputs": [
    {
     "data": {
      "text/plain": [
       "array([[ 1,  3,  5,  7,  9, 11, 13, 15, 17, 19],\n",
       "       [ 2,  4,  6,  8, 10, 12, 14, 16, 18, 20]])"
      ]
     },
     "execution_count": 25,
     "metadata": {},
     "output_type": "execute_result"
    }
   ],
   "source": [
    "ex[0:,]"
   ]
  },
  {
   "cell_type": "code",
   "execution_count": 26,
   "metadata": {},
   "outputs": [
    {
     "data": {
      "text/plain": [
       "array([[ 1,  3,  5,  7,  9, 11, 13, 15, 17, 19],\n",
       "       [ 2,  4,  6,  8, 10, 12, 14, 16, 18, 20]])"
      ]
     },
     "execution_count": 26,
     "metadata": {},
     "output_type": "execute_result"
    }
   ],
   "source": [
    "ex[0:,...]"
   ]
  },
  {
   "cell_type": "code",
   "execution_count": 35,
   "metadata": {},
   "outputs": [
    {
     "data": {
      "text/plain": [
       "array([[ 3,  5,  7,  9, 11],\n",
       "       [ 4,  6,  8, 10, 12]])"
      ]
     },
     "execution_count": 35,
     "metadata": {},
     "output_type": "execute_result"
    }
   ],
   "source": [
    "ex[:,1:6]"
   ]
  },
  {
   "cell_type": "code",
   "execution_count": 34,
   "metadata": {},
   "outputs": [
    {
     "data": {
      "text/plain": [
       "array([[ 3,  7, 11],\n",
       "       [ 4,  8, 12]])"
      ]
     },
     "execution_count": 34,
     "metadata": {},
     "output_type": "execute_result"
    }
   ],
   "source": [
    "ex[:,1:6:2]"
   ]
  },
  {
   "cell_type": "code",
   "execution_count": null,
   "metadata": {},
   "outputs": [],
   "source": []
  },
  {
   "cell_type": "markdown",
   "metadata": {},
   "source": [
    "### Numpy array methods :\n",
    "a - is the array\n",
    "shape is the tuple representing the new shape of the array\n",
    "\n",
    " - np.arange(start, stop, step)\n",
    " - a.reshape((size))\n",
    " - np.resize(a, (shape)) -> returns the new array with the desired shape, adds the input elements again if required\n",
    " - a.flatten() -> returns a new array\n",
    " - a.ravel() -> returns the flat view of the array\n",
    " - a.transpose() -> returns a transpose of the array\n",
    " - np.hstack() -> function stacks arrays horizontally(axis=1)\n",
    " - np.vstack() -> Function stacks arrays vertically (axis=0)\n",
    " - np.concatenate() -> Function to stack the arrays based on the given axis\n",
    " - np.dstack() -> function stacks arrays depth wise along the third axis\n",
    " - np.row_stack() -> same as vstack()\n",
    " - np.column_stack() -> in 2d arrays same as hstack()"
   ]
  },
  {
   "cell_type": "code",
   "execution_count": 120,
   "metadata": {},
   "outputs": [
    {
     "data": {
      "text/plain": [
       "array([[[ 3,  6],\n",
       "        [ 9,  2]],\n",
       "\n",
       "       [[ 4,  6],\n",
       "        [ 5, 10]],\n",
       "\n",
       "       [[15,  7],\n",
       "        [14, 21]]])"
      ]
     },
     "execution_count": 120,
     "metadata": {},
     "output_type": "execute_result"
    }
   ],
   "source": [
    "threeD = np.array([3, 6, 9, 2, 4, 6, 5, 10, 15, 7, 14, 21]).reshape(3,2,2)\n",
    "threeD"
   ]
  },
  {
   "cell_type": "code",
   "execution_count": 121,
   "metadata": {},
   "outputs": [
    {
     "data": {
      "text/plain": [
       "array([ 3,  6,  9,  2,  4,  6,  5, 10, 15,  7, 14, 21])"
      ]
     },
     "execution_count": 121,
     "metadata": {},
     "output_type": "execute_result"
    }
   ],
   "source": [
    "# Note that ravel is just an view of the array in the flat structure, modifying this will affect the original array\n",
    "threeD.ravel()"
   ]
  },
  {
   "cell_type": "code",
   "execution_count": 122,
   "metadata": {},
   "outputs": [
    {
     "data": {
      "text/plain": [
       "array([ 3,  6,  9,  2,  4,  6,  5, 10, 15,  7, 14, 21])"
      ]
     },
     "execution_count": 122,
     "metadata": {},
     "output_type": "execute_result"
    }
   ],
   "source": [
    "# Flatten will create a  new copy of the array and allocates new memory for it.\n",
    "threeD.flatten()"
   ]
  },
  {
   "cell_type": "code",
   "execution_count": 123,
   "metadata": {},
   "outputs": [
    {
     "data": {
      "text/plain": [
       "array([[[ 3,  4, 15],\n",
       "        [ 9,  5, 14]],\n",
       "\n",
       "       [[ 6,  6,  7],\n",
       "        [ 2, 10, 21]]])"
      ]
     },
     "execution_count": 123,
     "metadata": {},
     "output_type": "execute_result"
    }
   ],
   "source": [
    "threeD.transpose()\n",
    "# Transposing a matrix entails flipping the matrix in such a manner, that the matrix rows become the matrix columns and vice versa"
   ]
  },
  {
   "cell_type": "code",
   "execution_count": 124,
   "metadata": {},
   "outputs": [
    {
     "data": {
      "text/plain": [
       "array([[[ 3,  6],\n",
       "        [ 9,  2]],\n",
       "\n",
       "       [[ 4,  6],\n",
       "        [ 5, 10]],\n",
       "\n",
       "       [[15,  7],\n",
       "        [14, 21]]])"
      ]
     },
     "execution_count": 124,
     "metadata": {},
     "output_type": "execute_result"
    }
   ],
   "source": [
    "threeD"
   ]
  },
  {
   "cell_type": "code",
   "execution_count": 125,
   "metadata": {},
   "outputs": [
    {
     "data": {
      "text/plain": [
       "array([[ 3,  6,  9,  2,  4],\n",
       "       [ 6,  5, 10, 15,  7],\n",
       "       [14, 21,  3,  6,  9]])"
      ]
     },
     "execution_count": 125,
     "metadata": {},
     "output_type": "execute_result"
    }
   ],
   "source": [
    "np.resize(threeD, (3,5))\n",
    "# Reshape: Changes the shape of the array and adds copies of the input array if necessary"
   ]
  },
  {
   "cell_type": "code",
   "execution_count": 126,
   "metadata": {},
   "outputs": [
    {
     "data": {
      "text/plain": [
       "array([[  1,   9,  17,  25,  33],\n",
       "       [ 41,  49,  57,  65,  73],\n",
       "       [ 81,  89,  97, 105, 113],\n",
       "       [121, 129, 137, 145, 153],\n",
       "       [161, 169, 177, 185, 193]])"
      ]
     },
     "execution_count": 126,
     "metadata": {},
     "output_type": "execute_result"
    }
   ],
   "source": [
    "a = np.arange(1, 200, 8).reshape(5,5)\n",
    "a"
   ]
  },
  {
   "cell_type": "code",
   "execution_count": 127,
   "metadata": {},
   "outputs": [
    {
     "data": {
      "text/plain": [
       "array([[  2,  18,  34,  50,  66],\n",
       "       [ 82,  98, 114, 130, 146],\n",
       "       [162, 178, 194, 210, 226],\n",
       "       [242, 258, 274, 290, 306],\n",
       "       [322, 338, 354, 370, 386]])"
      ]
     },
     "execution_count": 127,
     "metadata": {},
     "output_type": "execute_result"
    }
   ],
   "source": [
    "a+a"
   ]
  },
  {
   "cell_type": "code",
   "execution_count": 128,
   "metadata": {},
   "outputs": [
    {
     "data": {
      "text/plain": [
       "array([[  3,  27,  51,  75,  99],\n",
       "       [123, 147, 171, 195, 219],\n",
       "       [243, 267, 291, 315, 339],\n",
       "       [363, 387, 411, 435, 459],\n",
       "       [483, 507, 531, 555, 579]])"
      ]
     },
     "execution_count": 128,
     "metadata": {},
     "output_type": "execute_result"
    }
   ],
   "source": [
    "3*a"
   ]
  },
  {
   "cell_type": "code",
   "execution_count": 129,
   "metadata": {},
   "outputs": [
    {
     "data": {
      "text/plain": [
       "array([[ 0.5,  4.5,  8.5, 12.5, 16.5],\n",
       "       [20.5, 24.5, 28.5, 32.5, 36.5],\n",
       "       [40.5, 44.5, 48.5, 52.5, 56.5],\n",
       "       [60.5, 64.5, 68.5, 72.5, 76.5],\n",
       "       [80.5, 84.5, 88.5, 92.5, 96.5]])"
      ]
     },
     "execution_count": 129,
     "metadata": {},
     "output_type": "execute_result"
    }
   ],
   "source": [
    "b = a/2\n",
    "b"
   ]
  },
  {
   "cell_type": "code",
   "execution_count": 130,
   "metadata": {},
   "outputs": [
    {
     "data": {
      "text/plain": [
       "(dtype('float64'), dtype('int64'))"
      ]
     },
     "execution_count": 130,
     "metadata": {},
     "output_type": "execute_result"
    }
   ],
   "source": [
    "b.dtype, a.dtype"
   ]
  },
  {
   "cell_type": "code",
   "execution_count": 131,
   "metadata": {},
   "outputs": [
    {
     "data": {
      "text/plain": [
       "(array([[  1. ,   9. ,  17. ,  25. ,  33. ,   0.5,   4.5,   8.5,  12.5,\n",
       "          16.5],\n",
       "        [ 41. ,  49. ,  57. ,  65. ,  73. ,  20.5,  24.5,  28.5,  32.5,\n",
       "          36.5],\n",
       "        [ 81. ,  89. ,  97. , 105. , 113. ,  40.5,  44.5,  48.5,  52.5,\n",
       "          56.5],\n",
       "        [121. , 129. , 137. , 145. , 153. ,  60.5,  64.5,  68.5,  72.5,\n",
       "          76.5],\n",
       "        [161. , 169. , 177. , 185. , 193. ,  80.5,  84.5,  88.5,  92.5,\n",
       "          96.5]]),\n",
       " (5, 10))"
      ]
     },
     "execution_count": 131,
     "metadata": {},
     "output_type": "execute_result"
    }
   ],
   "source": [
    "c = np.hstack((a,b))\n",
    "c, c.shape\n",
    "# same as the column_stack method for the 2d arrays"
   ]
  },
  {
   "cell_type": "code",
   "execution_count": 132,
   "metadata": {},
   "outputs": [
    {
     "data": {
      "text/plain": [
       "dtype('float64')"
      ]
     },
     "execution_count": 132,
     "metadata": {},
     "output_type": "execute_result"
    }
   ],
   "source": [
    "c.dtype"
   ]
  },
  {
   "cell_type": "code",
   "execution_count": 133,
   "metadata": {},
   "outputs": [
    {
     "data": {
      "text/plain": [
       "(array([[  1. ,   9. ,  17. ,  25. ,  33. ,   0.5,   4.5,   8.5,  12.5,\n",
       "          16.5],\n",
       "        [ 41. ,  49. ,  57. ,  65. ,  73. ,  20.5,  24.5,  28.5,  32.5,\n",
       "          36.5],\n",
       "        [ 81. ,  89. ,  97. , 105. , 113. ,  40.5,  44.5,  48.5,  52.5,\n",
       "          56.5],\n",
       "        [121. , 129. , 137. , 145. , 153. ,  60.5,  64.5,  68.5,  72.5,\n",
       "          76.5],\n",
       "        [161. , 169. , 177. , 185. , 193. ,  80.5,  84.5,  88.5,  92.5,\n",
       "          96.5]]),\n",
       " (5, 10))"
      ]
     },
     "execution_count": 133,
     "metadata": {},
     "output_type": "execute_result"
    }
   ],
   "source": [
    "d = np.concatenate((a,b), axis=1)\n",
    "d, d.shape"
   ]
  },
  {
   "cell_type": "code",
   "execution_count": 134,
   "metadata": {},
   "outputs": [
    {
     "data": {
      "text/plain": [
       "(array([[  1. ,   9. ,  17. ,  25. ,  33. ],\n",
       "        [ 41. ,  49. ,  57. ,  65. ,  73. ],\n",
       "        [ 81. ,  89. ,  97. , 105. , 113. ],\n",
       "        [121. , 129. , 137. , 145. , 153. ],\n",
       "        [161. , 169. , 177. , 185. , 193. ],\n",
       "        [  0.5,   4.5,   8.5,  12.5,  16.5],\n",
       "        [ 20.5,  24.5,  28.5,  32.5,  36.5],\n",
       "        [ 40.5,  44.5,  48.5,  52.5,  56.5],\n",
       "        [ 60.5,  64.5,  68.5,  72.5,  76.5],\n",
       "        [ 80.5,  84.5,  88.5,  92.5,  96.5]]),\n",
       " (10, 5))"
      ]
     },
     "execution_count": 134,
     "metadata": {},
     "output_type": "execute_result"
    }
   ],
   "source": [
    "e = np.vstack((a,b))\n",
    "e, e.shape\n",
    "# same as the row_stack method for the 2d arrays"
   ]
  },
  {
   "cell_type": "code",
   "execution_count": 135,
   "metadata": {},
   "outputs": [
    {
     "data": {
      "text/plain": [
       "(array([[  1. ,   9. ,  17. ,  25. ,  33. ],\n",
       "        [ 41. ,  49. ,  57. ,  65. ,  73. ],\n",
       "        [ 81. ,  89. ,  97. , 105. , 113. ],\n",
       "        [121. , 129. , 137. , 145. , 153. ],\n",
       "        [161. , 169. , 177. , 185. , 193. ],\n",
       "        [  0.5,   4.5,   8.5,  12.5,  16.5],\n",
       "        [ 20.5,  24.5,  28.5,  32.5,  36.5],\n",
       "        [ 40.5,  44.5,  48.5,  52.5,  56.5],\n",
       "        [ 60.5,  64.5,  68.5,  72.5,  76.5],\n",
       "        [ 80.5,  84.5,  88.5,  92.5,  96.5]]),\n",
       " (10, 5))"
      ]
     },
     "execution_count": 135,
     "metadata": {},
     "output_type": "execute_result"
    }
   ],
   "source": [
    "f = np.concatenate((a,b), axis=0)\n",
    "f, f.shape"
   ]
  },
  {
   "cell_type": "markdown",
   "metadata": {},
   "source": []
  },
  {
   "cell_type": "code",
   "execution_count": 136,
   "metadata": {},
   "outputs": [
    {
     "data": {
      "text/plain": [
       "array([[ 0,  1,  2,  3,  4,  5,  6,  7,  8,  9],\n",
       "       [10, 11, 12, 13, 14, 15, 16, 17, 18, 19],\n",
       "       [20, 21, 22, 23, 24, 25, 26, 27, 28, 29]])"
      ]
     },
     "execution_count": 136,
     "metadata": {},
     "output_type": "execute_result"
    }
   ],
   "source": [
    "a = np.arange(0, 30).reshape(3,10)\n",
    "a"
   ]
  },
  {
   "cell_type": "code",
   "execution_count": 137,
   "metadata": {},
   "outputs": [
    {
     "data": {
      "text/plain": [
       "(3, 10)"
      ]
     },
     "execution_count": 137,
     "metadata": {},
     "output_type": "execute_result"
    }
   ],
   "source": [
    "a.shape # Shape of the array"
   ]
  },
  {
   "cell_type": "code",
   "execution_count": 138,
   "metadata": {},
   "outputs": [
    {
     "data": {
      "text/plain": [
       "8"
      ]
     },
     "execution_count": 138,
     "metadata": {},
     "output_type": "execute_result"
    }
   ],
   "source": [
    "a.dtype.itemsize # size of each item in the array"
   ]
  },
  {
   "cell_type": "code",
   "execution_count": 139,
   "metadata": {},
   "outputs": [
    {
     "data": {
      "text/plain": [
       "2"
      ]
     },
     "execution_count": 139,
     "metadata": {},
     "output_type": "execute_result"
    }
   ],
   "source": [
    "a.ndim # Total number of dimensions in the array"
   ]
  },
  {
   "cell_type": "code",
   "execution_count": 140,
   "metadata": {},
   "outputs": [
    {
     "data": {
      "text/plain": [
       "30"
      ]
     },
     "execution_count": 140,
     "metadata": {},
     "output_type": "execute_result"
    }
   ],
   "source": [
    "a.size # The total numner of items in the array"
   ]
  },
  {
   "cell_type": "code",
   "execution_count": 141,
   "metadata": {},
   "outputs": [
    {
     "data": {
      "text/plain": [
       "240"
      ]
     },
     "execution_count": 141,
     "metadata": {},
     "output_type": "execute_result"
    }
   ],
   "source": [
    "a.nbytes # The total number of bytes the array requires, same as itemsize * size"
   ]
  },
  {
   "cell_type": "code",
   "execution_count": 142,
   "metadata": {},
   "outputs": [
    {
     "data": {
      "text/plain": [
       "array([[ 0, 10, 20],\n",
       "       [ 1, 11, 21],\n",
       "       [ 2, 12, 22],\n",
       "       [ 3, 13, 23],\n",
       "       [ 4, 14, 24],\n",
       "       [ 5, 15, 25],\n",
       "       [ 6, 16, 26],\n",
       "       [ 7, 17, 27],\n",
       "       [ 8, 18, 28],\n",
       "       [ 9, 19, 29]])"
      ]
     },
     "execution_count": 142,
     "metadata": {},
     "output_type": "execute_result"
    }
   ],
   "source": [
    "a.T # same as a.transpose()"
   ]
  },
  {
   "cell_type": "code",
   "execution_count": 143,
   "metadata": {},
   "outputs": [
    {
     "name": "stdout",
     "output_type": "stream",
     "text": [
      "0\n",
      "1\n",
      "2\n",
      "3\n",
      "4\n",
      "5\n",
      "6\n",
      "7\n",
      "8\n",
      "9\n",
      "10\n",
      "11\n",
      "12\n",
      "13\n",
      "14\n",
      "15\n",
      "16\n",
      "17\n",
      "18\n",
      "19\n",
      "20\n",
      "21\n",
      "22\n",
      "23\n",
      "24\n",
      "25\n",
      "26\n",
      "27\n",
      "28\n",
      "29\n"
     ]
    }
   ],
   "source": [
    "# a.flat returns a numpy.flatiter object , this is the only way to acquire a flatiter object.\n",
    "# The flatiter enables us to loop through an array as if it is a flat array\n",
    "for i in a.flat:\n",
    "    print(i)"
   ]
  },
  {
   "cell_type": "markdown",
   "metadata": {},
   "source": []
  }
 ],
 "metadata": {
  "kernelspec": {
   "display_name": "Python 3",
   "language": "python",
   "name": "python3"
  },
  "language_info": {
   "codemirror_mode": {
    "name": "ipython",
    "version": 3
   },
   "file_extension": ".py",
   "mimetype": "text/x-python",
   "name": "python",
   "nbconvert_exporter": "python",
   "pygments_lexer": "ipython3",
   "version": "3.8.5"
  }
 },
 "nbformat": 4,
 "nbformat_minor": 4
}
