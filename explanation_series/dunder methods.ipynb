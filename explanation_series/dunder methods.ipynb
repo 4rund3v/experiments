{
 "cells": [
  {
   "cell_type": "markdown",
   "metadata": {},
   "source": [
    "#### rules for dunder methods\n",
    " - constructor --> _ _init_ _()\n",
    " - print --> _ _ str _ _ () \n",
    " - repr(offical repr) --> _ _ repr _ _ () \n",
    " - length --> _ _ len _ _()"
   ]
  },
  {
   "cell_type": "code",
   "execution_count": 129,
   "metadata": {},
   "outputs": [],
   "source": [
    "# Dunder methods or special methods\n",
    "class Account():\n",
    "    \"\"\" Account structure for account. \"\"\"\n",
    "    # __ -> double+underscore -> dunder\n",
    "    def __init__(self, account_holder, balance=0):\n",
    "        \"\"\"\n",
    "         Base constructor for the account.\n",
    "        \"\"\"\n",
    "        self.account_holder = account_holder # arun\n",
    "        self.balance = balance # 0 \n",
    "        self.transactions = []\n",
    "        # self.super_transactions = []\n",
    "        print(\"[{}] Account init called for {} \".format(self, self.account_holder))\n",
    "        \n",
    "    def __str__(self):\n",
    "        \"informal representation via str\"\n",
    "        return \"[Account] Holder Name [{}] Current Balance [{}]\".format(self.account_holder, self.balance)\n",
    "    \n",
    "    def __repr__(self):\n",
    "        \"formal representaion of the class\"\n",
    "        return r\"\"\"Account({!r}, {!r})\"\"\".format(self.account_holder, self.balance)\n",
    "    \n",
    "    def __len__(self):\n",
    "        \"\"\"\n",
    "        return the length of transactions\n",
    "        \"\"\"\n",
    "        return len(self._transactions)\n",
    "    \n",
    "    #prototected void main()\n",
    "    # __ -> prottected before a method its a propety\n",
    "    # _ ->  private only objects can modify\n",
    "    # plain -> public\n",
    "    def add_transaction(self, amount):\n",
    "        \"\"\"\n",
    "         just like at atm transaction\n",
    "        \"\"\"\n",
    "        self._transactions.append(amount)\n",
    "    \n",
    "    # inbuilt decorator _. py has implemented to make it avaialbe like a variable\n",
    "    @property\n",
    "    def total_balance(self):\n",
    "        #res = 0\n",
    "        #for i in self._transactions:\n",
    "        #    res = res + i\n",
    "        # sum is an inbuilt func   \n",
    "        return self.balance + sum(self._transactions)\n",
    "    \n",
    "    def __add__(self, other):\n",
    "        print(self)\n",
    "        print(other)\n",
    "        return 8"
   ]
  },
  {
   "cell_type": "code",
   "execution_count": 130,
   "metadata": {},
   "outputs": [
    {
     "name": "stdout",
     "output_type": "stream",
     "text": [
      "[[Account] Holder Name [arun] Current Balance [2000]] Account init called for arun \n",
      "[[Account] Holder Name [bob] Current Balance [0]] Account init called for bob \n"
     ]
    }
   ],
   "source": [
    "arun_account = Account(\"arun\", 2000)\n",
    "bob_account = Account(\"bob\")\n",
    "# type(Account)\n",
    "# newacc = type(\"NewAccount\", (), {'balance':0, 'account_name': \"\"})\n",
    "# newacc()"
   ]
  },
  {
   "cell_type": "code",
   "execution_count": 131,
   "metadata": {},
   "outputs": [
    {
     "name": "stdout",
     "output_type": "stream",
     "text": [
      "[Account] Holder Name [arun] Current Balance [2000]\n",
      "[Account] Holder Name [bob] Current Balance [0]\n"
     ]
    },
    {
     "data": {
      "text/plain": [
       "['__add__',\n",
       " '__class__',\n",
       " '__delattr__',\n",
       " '__dict__',\n",
       " '__dir__',\n",
       " '__doc__',\n",
       " '__eq__',\n",
       " '__format__',\n",
       " '__ge__',\n",
       " '__getattribute__',\n",
       " '__gt__',\n",
       " '__hash__',\n",
       " '__init__',\n",
       " '__init_subclass__',\n",
       " '__le__',\n",
       " '__len__',\n",
       " '__lt__',\n",
       " '__module__',\n",
       " '__ne__',\n",
       " '__new__',\n",
       " '__reduce__',\n",
       " '__reduce_ex__',\n",
       " '__repr__',\n",
       " '__setattr__',\n",
       " '__sizeof__',\n",
       " '__str__',\n",
       " '__subclasshook__',\n",
       " '__weakref__',\n",
       " 'account_holder',\n",
       " 'add_transaction',\n",
       " 'balance',\n",
       " 'total_balance',\n",
       " 'transactions']"
      ]
     },
     "execution_count": 131,
     "metadata": {},
     "output_type": "execute_result"
    }
   ],
   "source": [
    "print(arun_account) # <- object of class at memory '<__main__.Account object at 0x7eff6f9a0630>'\n",
    "print(bob_account)\n",
    "dir(arun_account)"
   ]
  },
  {
   "cell_type": "code",
   "execution_count": 132,
   "metadata": {},
   "outputs": [
    {
     "name": "stdout",
     "output_type": "stream",
     "text": [
      "[Account] Holder Name [arun] Current Balance [2000]\n",
      "[Account] Holder Name [bob] Current Balance [0]\n"
     ]
    },
    {
     "data": {
      "text/plain": [
       "8"
      ]
     },
     "execution_count": 132,
     "metadata": {},
     "output_type": "execute_result"
    }
   ],
   "source": [
    "# TODO __add__ (+), (-), > < <= >= __eq__ \n",
    "arun_account + bob_account\n",
    "arun_account > bob_account"
   ]
  },
  {
   "cell_type": "code",
   "execution_count": 116,
   "metadata": {},
   "outputs": [],
   "source": [
    "# arun_account._transactions = [1,2,3,4]"
   ]
  },
  {
   "cell_type": "code",
   "execution_count": 117,
   "metadata": {},
   "outputs": [
    {
     "name": "stdout",
     "output_type": "stream",
     "text": [
      "Arun has 4 transactions\n"
     ]
    }
   ],
   "source": [
    "print(\"Arun has {} transactions\".format(len(arun_account)))"
   ]
  },
  {
   "cell_type": "code",
   "execution_count": 111,
   "metadata": {},
   "outputs": [
    {
     "ename": "AttributeError",
     "evalue": "'Account' object has no attribute 'add_transaction'",
     "output_type": "error",
     "traceback": [
      "\u001b[0;31m---------------------------------------------------------------------------\u001b[0m",
      "\u001b[0;31mAttributeError\u001b[0m                            Traceback (most recent call last)",
      "\u001b[0;32m<ipython-input-111-0c78b4437cb7>\u001b[0m in \u001b[0;36m<module>\u001b[0;34m\u001b[0m\n\u001b[0;32m----> 1\u001b[0;31m \u001b[0marun_account\u001b[0m\u001b[0;34m.\u001b[0m\u001b[0madd_transaction\u001b[0m\u001b[0;34m(\u001b[0m\u001b[0;34m+\u001b[0m\u001b[0;36m500\u001b[0m\u001b[0;34m)\u001b[0m\u001b[0;34m\u001b[0m\u001b[0;34m\u001b[0m\u001b[0m\n\u001b[0m\u001b[1;32m      2\u001b[0m \u001b[0mprint\u001b[0m\u001b[0;34m(\u001b[0m\u001b[0;34m\"Arun has {} transactions\"\u001b[0m\u001b[0;34m.\u001b[0m\u001b[0mformat\u001b[0m\u001b[0;34m(\u001b[0m\u001b[0mlen\u001b[0m\u001b[0;34m(\u001b[0m\u001b[0marun_account\u001b[0m\u001b[0;34m)\u001b[0m\u001b[0;34m)\u001b[0m\u001b[0;34m)\u001b[0m\u001b[0;34m\u001b[0m\u001b[0;34m\u001b[0m\u001b[0m\n",
      "\u001b[0;31mAttributeError\u001b[0m: 'Account' object has no attribute 'add_transaction'"
     ]
    }
   ],
   "source": [
    "arun_account.add_transaction(+500)\n",
    "print(\"Arun has {} transactions\".format(len(arun_account)))"
   ]
  },
  {
   "cell_type": "code",
   "execution_count": 103,
   "metadata": {},
   "outputs": [
    {
     "name": "stdout",
     "output_type": "stream",
     "text": [
      "Arun has 2 transactions\n"
     ]
    }
   ],
   "source": [
    "arun_account.add_transaction(-300)\n",
    "print(\"Arun has {} transactions\".format(len(arun_account)))"
   ]
  },
  {
   "cell_type": "code",
   "execution_count": 106,
   "metadata": {},
   "outputs": [
    {
     "data": {
      "text/plain": [
       "2200"
      ]
     },
     "execution_count": 106,
     "metadata": {},
     "output_type": "execute_result"
    }
   ],
   "source": [
    "arun_account.total_balance"
   ]
  },
  {
   "cell_type": "code",
   "execution_count": 105,
   "metadata": {},
   "outputs": [
    {
     "name": "stdout",
     "output_type": "stream",
     "text": [
      "hello World\n"
     ]
    }
   ],
   "source": [
    "a = \"hello World\"\n",
    "print(a)"
   ]
  },
  {
   "cell_type": "code",
   "execution_count": 29,
   "metadata": {},
   "outputs": [
    {
     "data": {
      "text/plain": [
       "\"'arun'\""
      ]
     },
     "execution_count": 29,
     "metadata": {},
     "output_type": "execute_result"
    }
   ],
   "source": [
    "repr(\"arun\")"
   ]
  },
  {
   "cell_type": "code",
   "execution_count": 35,
   "metadata": {},
   "outputs": [
    {
     "name": "stdout",
     "output_type": "stream",
     "text": [
      "[[Account] Holder Name [arun] Current Balance [0]] Account init called for arun \n"
     ]
    },
    {
     "data": {
      "text/plain": [
       "Account('arun', 0)"
      ]
     },
     "execution_count": 35,
     "metadata": {},
     "output_type": "execute_result"
    }
   ],
   "source": [
    "#print(arun_account) ->\n",
    "\n",
    "Account('arun', 0)"
   ]
  },
  {
   "cell_type": "code",
   "execution_count": 40,
   "metadata": {},
   "outputs": [
    {
     "data": {
      "text/plain": [
       "['__class__',\n",
       " '__delattr__',\n",
       " '__dict__',\n",
       " '__dir__',\n",
       " '__doc__',\n",
       " '__eq__',\n",
       " '__format__',\n",
       " '__ge__',\n",
       " '__getattribute__',\n",
       " '__gt__',\n",
       " '__hash__',\n",
       " '__init__',\n",
       " '__init_subclass__',\n",
       " '__le__',\n",
       " '__lt__',\n",
       " '__module__',\n",
       " '__ne__',\n",
       " '__new__',\n",
       " '__reduce__',\n",
       " '__reduce_ex__',\n",
       " '__repr__',\n",
       " '__setattr__',\n",
       " '__sizeof__',\n",
       " '__str__',\n",
       " '__subclasshook__',\n",
       " '__weakref__']"
      ]
     },
     "execution_count": 40,
     "metadata": {},
     "output_type": "execute_result"
    }
   ],
   "source": [
    "dir(Account)"
   ]
  },
  {
   "cell_type": "code",
   "execution_count": 45,
   "metadata": {},
   "outputs": [
    {
     "data": {
      "text/plain": [
       "3"
      ]
     },
     "execution_count": 45,
     "metadata": {},
     "output_type": "execute_result"
    }
   ],
   "source": [
    "class list()\n",
    "  \n",
    "a = list([1, 2, 3])\n",
    "len(a)"
   ]
  },
  {
   "cell_type": "code",
   "execution_count": 46,
   "metadata": {},
   "outputs": [
    {
     "data": {
      "text/plain": [
       "['__add__',\n",
       " '__class__',\n",
       " '__contains__',\n",
       " '__delattr__',\n",
       " '__delitem__',\n",
       " '__dir__',\n",
       " '__doc__',\n",
       " '__eq__',\n",
       " '__format__',\n",
       " '__ge__',\n",
       " '__getattribute__',\n",
       " '__getitem__',\n",
       " '__gt__',\n",
       " '__hash__',\n",
       " '__iadd__',\n",
       " '__imul__',\n",
       " '__init__',\n",
       " '__init_subclass__',\n",
       " '__iter__',\n",
       " '__le__',\n",
       " '__len__',\n",
       " '__lt__',\n",
       " '__mul__',\n",
       " '__ne__',\n",
       " '__new__',\n",
       " '__reduce__',\n",
       " '__reduce_ex__',\n",
       " '__repr__',\n",
       " '__reversed__',\n",
       " '__rmul__',\n",
       " '__setattr__',\n",
       " '__setitem__',\n",
       " '__sizeof__',\n",
       " '__str__',\n",
       " '__subclasshook__',\n",
       " 'append',\n",
       " 'clear',\n",
       " 'copy',\n",
       " 'count',\n",
       " 'extend',\n",
       " 'index',\n",
       " 'insert',\n",
       " 'pop',\n",
       " 'remove',\n",
       " 'reverse',\n",
       " 'sort']"
      ]
     },
     "execution_count": 46,
     "metadata": {},
     "output_type": "execute_result"
    }
   ],
   "source": [
    "dir(a)\n",
    "# bob_account + aro"
   ]
  },
  {
   "cell_type": "code",
   "execution_count": 133,
   "metadata": {},
   "outputs": [],
   "source": [
    "# Context Manager with __enter__ and __exit__ \n"
   ]
  },
  {
   "cell_type": "code",
   "execution_count": null,
   "metadata": {},
   "outputs": [],
   "source": []
  }
 ],
 "metadata": {
  "kernelspec": {
   "display_name": "Python 3",
   "language": "python",
   "name": "python3"
  },
  "language_info": {
   "codemirror_mode": {
    "name": "ipython",
    "version": 3
   },
   "file_extension": ".py",
   "mimetype": "text/x-python",
   "name": "python",
   "nbconvert_exporter": "python",
   "pygments_lexer": "ipython3",
   "version": "3.6.12"
  }
 },
 "nbformat": 4,
 "nbformat_minor": 4
}
