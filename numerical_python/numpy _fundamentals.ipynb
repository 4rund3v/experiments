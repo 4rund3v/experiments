{
 "cells": [
  {
   "cell_type": "markdown",
   "metadata": {},
   "source": [
    "# Numpy Fundamentals"
   ]
  },
  {
   "cell_type": "markdown",
   "metadata": {},
   "source": [
    "Numpy (short for Numerical Python) is an open source python library for scientific computing.\n",
    "The library contains a long list of useful mathematical functions\n",
    " - Linear algebra\n",
    " - Fourier transformation\n",
    " - Random Number generation, etc\n",
    "\n",
    "Numpy's arrays are stored more efficiently than an equivalent data structure in base Python, the improvement in performance scales with the number of elements in the array.\n",
    "The drawback of NumPy arrays is that they are more specialized than plain lists, hence outside of numerical computing, they are less useful."
   ]
  },
  {
   "cell_type": "code",
   "execution_count": 7,
   "metadata": {},
   "outputs": [
    {
     "name": "stdout",
     "output_type": "stream",
     "text": [
      "The numpy version is :: 1.19.4\n"
     ]
    }
   ],
   "source": [
    "import numpy as np\n",
    "print(\"The numpy version is :: {}\".format(np.__version__))"
   ]
  },
  {
   "cell_type": "code",
   "execution_count": 11,
   "metadata": {},
   "outputs": [
    {
     "name": "stdout",
     "output_type": "stream",
     "text": [
      "[1, 4, 9, 16, 25, 36, 49, 64, 81, 100]\n"
     ]
    }
   ],
   "source": [
    "# A Vector in the mathematical sense, a one dimensional array\n",
    "# squares = [] that contains the squares of numbers 1 to n, including n\n",
    "# pyhtonic\n",
    "n = 10\n",
    "squares = [i*i for i in range(1, n+1)]\n",
    "print(squares)"
   ]
  },
  {
   "cell_type": "code",
   "execution_count": 13,
   "metadata": {},
   "outputs": [
    {
     "name": "stdout",
     "output_type": "stream",
     "text": [
      "[  1   4   9  16  25  36  49  64  81 100]\n"
     ]
    }
   ],
   "source": [
    "# numpy way\n",
    "nsquares = np.arange(1, n+1) ** 2\n",
    "print(nsquares)"
   ]
  },
  {
   "cell_type": "markdown",
   "metadata": {},
   "source": [
    "Numpy code requires less explicit loops than the equivalent Python Code"
   ]
  },
  {
   "cell_type": "code",
   "execution_count": 25,
   "metadata": {},
   "outputs": [
    {
     "name": "stdout",
     "output_type": "stream",
     "text": [
      "[1 3 5 7 9]\n",
      "[ 2  4  6  8 10]\n",
      "[ 3  7 11 15 19]\n"
     ]
    }
   ],
   "source": [
    "# Numpy arrays can be added directly without a for loop\n",
    "odds = np.arange(1, n+1, 2)\n",
    "print(odds)\n",
    "evens = np.arange(2, n+1, 2)\n",
    "print(evens)\n",
    "\n",
    "elem_sum = odds + evens\n",
    "print(elem_sum)\n",
    "# Notice that numpy arrays are not comma seperated like list elements while printing them."
   ]
  },
  {
   "cell_type": "markdown",
   "metadata": {},
   "source": [
    "Concepts to get started with numpy\n",
    " - Data Types\n",
    " - Array Types\n",
    " - Type Conversions\n",
    " - Array Creation\n",
    " - Indexing\n",
    " - Slicing\n",
    " - Shape Manipulation"
   ]
  },
  {
   "cell_type": "code",
   "execution_count": null,
   "metadata": {},
   "outputs": [],
   "source": []
  }
 ],
 "metadata": {
  "kernelspec": {
   "display_name": "Python 3",
   "language": "python",
   "name": "python3"
  },
  "language_info": {
   "codemirror_mode": {
    "name": "ipython",
    "version": 3
   },
   "file_extension": ".py",
   "mimetype": "text/x-python",
   "name": "python",
   "nbconvert_exporter": "python",
   "pygments_lexer": "ipython3",
   "version": "3.8.5"
  }
 },
 "nbformat": 4,
 "nbformat_minor": 4
}
