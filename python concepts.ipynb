{
 "cells": [
  {
   "cell_type": "code",
   "execution_count": 3,
   "metadata": {},
   "outputs": [],
   "source": [
    "# Decorators\n",
    "def make_pretty(func):\n",
    "    def inner():\n",
    "        print(\"I got decorated\")\n",
    "        func()\n",
    "    return inner\n",
    "\n",
    "@make_pretty\n",
    "def ordinary():\n",
    "    print(\"I am ordinary\")"
   ]
  },
  {
   "cell_type": "code",
   "execution_count": 4,
   "metadata": {},
   "outputs": [
    {
     "name": "stdout",
     "output_type": "stream",
     "text": [
      "I got decorated\n",
      "I am ordinary\n"
     ]
    }
   ],
   "source": [
    "ordinary()"
   ]
  },
  {
   "cell_type": "code",
   "execution_count": 5,
   "metadata": {},
   "outputs": [
    {
     "name": "stdout",
     "output_type": "stream",
     "text": [
      "******************************\n",
      "%%%%%%%%%%%%%%%%%%%%%%%%%%%%%%\n",
      "Hello\n",
      "%%%%%%%%%%%%%%%%%%%%%%%%%%%%%%\n",
      "******************************\n"
     ]
    }
   ],
   "source": [
    "\"\"\"\n",
    "Functions and methods are called callable as they can be called.\n",
    "\n",
    "In fact, any object which implements the special __call__() method is termed callable. So, in the most basic sense, a decorator is a callable that returns a callable.\n",
    "\n",
    "Basically, a decorator takes in a function, adds some functionality and returns it.\n",
    "\"\"\"\n",
    "\n",
    "\n",
    "\n",
    "\n",
    "def star(func):\n",
    "    def inner(*args, **kwargs):\n",
    "        print(\"*\" * 30)\n",
    "        func(*args, **kwargs)\n",
    "        print(\"*\" * 30)\n",
    "    return inner\n",
    "\n",
    "\n",
    "def percent(func):\n",
    "    def inner(*args, **kwargs):\n",
    "        print(\"%\" * 30)\n",
    "        func(*args, **kwargs)\n",
    "        print(\"%\" * 30)\n",
    "    return inner\n",
    "\n",
    "\n",
    "@star\n",
    "@percent\n",
    "def printer(msg):\n",
    "    print(msg)\n",
    "\n",
    "\n",
    "printer(\"Hello\")"
   ]
  },
  {
   "cell_type": "code",
   "execution_count": 6,
   "metadata": {},
   "outputs": [
    {
     "name": "stdout",
     "output_type": "stream",
     "text": [
      "Hello There!\n"
     ]
    }
   ],
   "source": [
    "def say_hello():\n",
    "    print(\"Hello There!\")\n",
    "say_hello()"
   ]
  },
  {
   "cell_type": "code",
   "execution_count": 17,
   "metadata": {},
   "outputs": [],
   "source": [
    "import time\n",
    "\n",
    "def say_hello():\n",
    "    print(\"Hello There!\")\n",
    "    time.sleep(5)\n",
    "    \n",
    "def say_hi():\n",
    "    print(\"Welcome To Example\")\n",
    "    start = time.time()\n",
    "    print(\"Hi There!\")\n",
    "    time.sleep(5)\n",
    "    end = time.time()\n",
    "    print(\"Time to execute say_bye is : {}\".format(end-start))\n",
    "    print(\"You are now leaving\")\n",
    "    \n",
    "def say_bye():\n",
    "    print(\"Welcome To Example\")\n",
    "    start = time.time()\n",
    "    print(\"Bye Bye\")\n",
    "    time.sleep(3)\n",
    "    end = time.time()\n",
    "    print(\"Time to execute say_bye is : {}\".format(end-start))\n",
    "    print(\"You are now leaving\")"
   ]
  },
  {
   "cell_type": "code",
   "execution_count": 12,
   "metadata": {},
   "outputs": [
    {
     "name": "stdout",
     "output_type": "stream",
     "text": [
      "Hello There!\n"
     ]
    }
   ],
   "source": [
    "say_hello()"
   ]
  },
  {
   "cell_type": "code",
   "execution_count": 13,
   "metadata": {},
   "outputs": [
    {
     "name": "stdout",
     "output_type": "stream",
     "text": [
      "Hi There!\n"
     ]
    }
   ],
   "source": [
    "say_hi()"
   ]
  },
  {
   "cell_type": "code",
   "execution_count": 18,
   "metadata": {},
   "outputs": [
    {
     "name": "stdout",
     "output_type": "stream",
     "text": [
      "Welcome To Example\n",
      "Bye Bye\n",
      "Time to execute say_bye is : 3.001154661178589\n",
      "You are now exiting\n"
     ]
    }
   ],
   "source": [
    "say_bye()"
   ]
  },
  {
   "cell_type": "code",
   "execution_count": 24,
   "metadata": {},
   "outputs": [],
   "source": [
    "def make_my_func_fancy(func):\n",
    "    def wrapper():\n",
    "        print(\"Welcome to the Example\")\n",
    "        log(\"Welcome\")\n",
    "        start = time.time()\n",
    "        func()\n",
    "        end = time.time()\n",
    "        log(\"Good bye!\")\n",
    "        print(\"Total time taken is {}\".format(end-start))\n",
    "        print(\"You are now leaving the Example! Bye\")\n",
    "    return wrapper\n",
    "\n",
    "def say_hi():\n",
    "    print(\"Hi there\")"
   ]
  },
  {
   "cell_type": "code",
   "execution_count": 25,
   "metadata": {},
   "outputs": [
    {
     "name": "stdout",
     "output_type": "stream",
     "text": [
      "Hi there\n"
     ]
    }
   ],
   "source": [
    "say_hi()"
   ]
  },
  {
   "cell_type": "code",
   "execution_count": 26,
   "metadata": {},
   "outputs": [
    {
     "name": "stdout",
     "output_type": "stream",
     "text": [
      "Welcome to the Example\n",
      "Hi there\n",
      "Total time taken is 1.5020370483398438e-05\n",
      "You are now leaving the Example! Bye\n"
     ]
    }
   ],
   "source": [
    "say_hi = make_my_func_fancy(say_hi)\n",
    "say_hi()"
   ]
  },
  {
   "cell_type": "code",
   "execution_count": 27,
   "metadata": {},
   "outputs": [],
   "source": [
    "@make_my_func_fancy #make_my_func_fancy(say_bye)\n",
    "def say_bye():\n",
    "    print(\"Bye Bye!\")\n",
    "# 1. @make_my_func_fancy decorate using function make_my_func_fancy()\n",
    "# 2. decorated function is : say_bye()\n"
   ]
  },
  {
   "cell_type": "code",
   "execution_count": 28,
   "metadata": {},
   "outputs": [
    {
     "name": "stdout",
     "output_type": "stream",
     "text": [
      "Welcome to the Example\n",
      "Bye Bye!\n",
      "Total time taken is 1.9073486328125e-05\n",
      "You are now leaving the Example! Bye\n"
     ]
    }
   ],
   "source": [
    "say_bye()"
   ]
  },
  {
   "cell_type": "code",
   "execution_count": 35,
   "metadata": {},
   "outputs": [],
   "source": [
    "def make_pretty(func):\n",
    "    def wrapper():\n",
    "        print(\"*\"*30)\n",
    "        func()\n",
    "        print(\"#\"*30)\n",
    "    return wrapper\n",
    "\n",
    "def log_func_execution_time(func):\n",
    "    def wrapper():\n",
    "        start = time.time()\n",
    "        func()\n",
    "        end = time.time()\n",
    "        print(\"Total Time taken is :{}\".format(end - start))\n",
    "    return wrapper\n",
    "\n",
    "@make_pretty\n",
    "def get_expenses():\n",
    "    a = 10\n",
    "    print(\"Expenses is : {}\".format(a))\n",
    "    return a\n",
    "\n",
    "@make_pretty\n",
    "@log_func_execution_time\n",
    "def get_expenses_report():\n",
    "    a = 10\n",
    "    time.sleep(5)\n",
    "    print(\"Expense Report is : {} \".format(a))\n",
    "    return a\n"
   ]
  },
  {
   "cell_type": "code",
   "execution_count": 36,
   "metadata": {},
   "outputs": [
    {
     "name": "stdout",
     "output_type": "stream",
     "text": [
      "******************************\n",
      "Expenses is : 10\n",
      "##############################\n"
     ]
    }
   ],
   "source": [
    "get_expenses()"
   ]
  },
  {
   "cell_type": "code",
   "execution_count": 37,
   "metadata": {},
   "outputs": [
    {
     "name": "stdout",
     "output_type": "stream",
     "text": [
      "******************************\n",
      "Expense Report is : 10\n",
      "Total Time taken is :5.002226829528809\n",
      "##############################\n"
     ]
    }
   ],
   "source": [
    "get_expenses_report()"
   ]
  },
  {
   "cell_type": "code",
   "execution_count": null,
   "metadata": {},
   "outputs": [],
   "source": []
  }
 ],
 "metadata": {
  "kernelspec": {
   "display_name": "Python 3",
   "language": "python",
   "name": "python3"
  },
  "language_info": {
   "codemirror_mode": {
    "name": "ipython",
    "version": 3
   },
   "file_extension": ".py",
   "mimetype": "text/x-python",
   "name": "python",
   "nbconvert_exporter": "python",
   "pygments_lexer": "ipython3",
   "version": "3.6.12"
  }
 },
 "nbformat": 4,
 "nbformat_minor": 4
}
